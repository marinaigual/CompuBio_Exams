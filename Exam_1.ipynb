{
 "cells": [
  {
   "cell_type": "markdown",
   "metadata": {},
   "source": [
    "                                # MARINA ASCENSIÓN IGUAL LÓPEZ\n",
    "                                INTRODUCTORY COURSE. EXAM 1.\n",
    "                                DATE: 07/09/2018"
   ]
  },
  {
   "cell_type": "markdown",
   "metadata": {},
   "source": [
    "# PROBLEM 2"
   ]
  },
  {
   "cell_type": "code",
   "execution_count": 6,
   "metadata": {},
   "outputs": [
    {
     "name": "stdout",
     "output_type": "stream",
     "text": [
      "total 1.2M\n",
      "-rw-rw-r-- 1 osboxes osboxes 1.4K Sep  7 10:39 Exam_1.ipynb\n",
      "-rw-rw-r-- 1 osboxes osboxes  12K Sep  7 06:26 LICENSE\n",
      "-rw-rw-r-- 1 osboxes osboxes 1.2M Sep  7 09:00 Locus_Germplasm_Phenotype_20130122.txt\n",
      "-rw-rw-r-- 1 osboxes osboxes   16 Sep  7 06:26 README.md\n"
     ]
    }
   ],
   "source": [
    "#list directory contents to know the ownership of the file, the size and the permission\n",
    "ls -lh\n"
   ]
  },
  {
   "cell_type": "markdown",
   "metadata": {},
   "source": [
    "The owner of the file is \"osboxes\" (myself).\n",
    "The size of the file is 1.2 Mb (Megabytes).\n",
    "\n",
    "The permission of the file is to read and write for users, read and write for group and read for all. As far as the file has not the extension '.sh', nobody can execute the file (because the file is not a program."
   ]
  },
  {
   "cell_type": "markdown",
   "metadata": {},
   "source": [
    "# PROBLEM 3"
   ]
  },
  {
   "cell_type": "code",
   "execution_count": 10,
   "metadata": {},
   "outputs": [
    {
     "name": "stdout",
     "output_type": "stream",
     "text": [
      "Locus_name)\tGermplasm_name\tphenotype\tpubmed_id\n"
     ]
    }
   ],
   "source": [
    "#Display the header line\n",
    "head -1 Locus_Germplasm_Phenotype_20130122.txt"
   ]
  },
  {
   "cell_type": "markdown",
   "metadata": {},
   "source": [
    "# PROBLEM 4"
   ]
  },
  {
   "cell_type": "code",
   "execution_count": 15,
   "metadata": {},
   "outputs": [
    {
     "name": "stdout",
     "output_type": "stream",
     "text": [
      "7216\n"
     ]
    }
   ],
   "source": [
    "#Total number of lines in the file\n",
    "cat Locus_Germplasm_Phenotype_20130122.txt | wc -l"
   ]
  },
  {
   "cell_type": "markdown",
   "metadata": {},
   "source": [
    "# PROBLEM 5"
   ]
  },
  {
   "cell_type": "code",
   "execution_count": 33,
   "metadata": {},
   "outputs": [
    {
     "name": "stdout",
     "output_type": "stream",
     "text": [
      "7215 Data_Only.csv\n"
     ]
    }
   ],
   "source": [
    "#Datalines of the file\n",
    "tail -n +2 Locus_Germplasm_Phenotype_20130122.txt > Data_Only.csv \n",
    "wc -l Data_Only.csv \n",
    "rm Data_Only.csv"
   ]
  },
  {
   "cell_type": "markdown",
   "metadata": {},
   "source": [
    "# PROBLEM 6"
   ]
  },
  {
   "cell_type": "code",
   "execution_count": 54,
   "metadata": {
    "scrolled": true
   },
   "outputs": [
    {
     "name": "stdout",
     "output_type": "stream",
     "text": [
      "\u001b[32m\u001b[K23\u001b[m\u001b[K\u001b[36m\u001b[K:\u001b[m\u001b[KAT1G01550\tbps1-2\tGrowth of bps1-2 mutants on CPTA-supplemented medium resulted in partial rescue of both leaf and\u001b[01;31m\u001b[K root \u001b[m\u001b[Kdefects. bps1-2 mutants grown on control growth medium have small radialized leaves with very little vascular tissue, and very short misshapen knotted-looking roots. By contrast, bps1-2 mutants grown on CPTA-supplemented medium produced larger flattened leaves that contained primary and secondary veins, and smooth elongated roots.\t17217459\n",
      "\u001b[32m\u001b[K24\u001b[m\u001b[K\u001b[36m\u001b[K:\u001b[m\u001b[KAT1G01550\tbps1-2\tMutant\u001b[01;31m\u001b[K roots \u001b[m\u001b[Kwere abnormal; primary and lateral\u001b[01;31m\u001b[K roots \u001b[m\u001b[Kwere short,\u001b[01;31m\u001b[K root \u001b[m\u001b[Khairs formed close to the\u001b[01;31m\u001b[K root \u001b[m\u001b[Kapex, and\u001b[01;31m\u001b[K root \u001b[m\u001b[Kdefects were most severe when plants were grown at low temperature.\t15458645\n",
      "\u001b[32m\u001b[K26\u001b[m\u001b[K\u001b[36m\u001b[K:\u001b[m\u001b[KAT1G01550\tbps1-2\tUnder high light conditions (approximately 200 &mu;E.m-2.sec-1), CPTA-treated seedlings were completely photobleached and mutants showed rescue of both leaf and\u001b[01;31m\u001b[K root \u001b[m\u001b[Kdevelopment. Under moderate (approximately 100 &mu;E.m-2.sec-1) and low (30 &mu;E.m-2.sec-1) light intensities, seedlings are incompletely photobleached, but leaf and\u001b[01;31m\u001b[K root \u001b[m\u001b[Kdevelopment continue to show partial rescue.\t17217459\n",
      "\u001b[32m\u001b[K90\u001b[m\u001b[K\u001b[36m\u001b[K:\u001b[m\u001b[KAT1G02970\twee1-1\tsignificant decreased\u001b[01;31m\u001b[K root \u001b[m\u001b[Kelongation rates, densely clustered hairs at the\u001b[01;31m\u001b[K root \u001b[m\u001b[Ktip and outgrowth of lateral\u001b[01;31m\u001b[K roots\t\u001b[m\u001b[K17209125\n",
      "\u001b[32m\u001b[K91\u001b[m\u001b[K\u001b[36m\u001b[K:\u001b[m\u001b[KAT1G03000\tpex6\tResistant to\u001b[01;31m\u001b[K root \u001b[m\u001b[Kelongation inhibition by IBA but responds normally to IAA.  Fails to respond to the stimulatory effects of IBA on lateral\u001b[01;31m\u001b[K root \u001b[m\u001b[Kinitiation but makes lateral\u001b[01;31m\u001b[K roots \u001b[m\u001b[Kin response to IAA.  Specifically defective in IBA responses.  Has several peroxisome-defective phenotypes:  does not develop normally without exogenous sucrose, dramatic defects in hypocotyl and\u001b[01;31m\u001b[K root \u001b[m\u001b[Kelongation in the absence of sucrose. Shorter\u001b[01;31m\u001b[K root \u001b[m\u001b[Kand hypocotyl than WT.  Plants grown in soil have smaller rosettes, fewer rosette leaves, and shorter primary inflorescence stems than WT.  Also has shorter siliques containing fewer seeds than WT.  Pale green in color.\t14745029\n",
      "\u001b[32m\u001b[K92\u001b[m\u001b[K\u001b[36m\u001b[K:\u001b[m\u001b[KAT1G03060\tspi-11\tTrichome cells have shorter branches, reduced stalk length and width.  Epidermal pavement cells are less complex, with less lobing. \u001b[01;31m\u001b[K Root \u001b[m\u001b[Khairs are shorter and\u001b[01;31m\u001b[K root \u001b[m\u001b[Khair vacuoles are fragmented.\t19392685\n",
      "\u001b[32m\u001b[K93\u001b[m\u001b[K\u001b[36m\u001b[K:\u001b[m\u001b[KAT1G03060\tspi-12\tTrichome cells have shorter branches, reduced stalk length and width.  Epidermal pavement cells are less complex, with less lobing. \u001b[01;31m\u001b[K Root \u001b[m\u001b[Khairs are shorter and\u001b[01;31m\u001b[K root \u001b[m\u001b[Khair vacuoles are fragmented.\t19392685\n",
      "\u001b[32m\u001b[K94\u001b[m\u001b[K\u001b[36m\u001b[K:\u001b[m\u001b[KAT1G03060\tspi-139\tTrichome cells have shorter branches, reduced stalk length and width.  Epidermal pavement cells are less complex, with less lobing. \u001b[01;31m\u001b[K Root \u001b[m\u001b[Khairs are shorter and\u001b[01;31m\u001b[K root \u001b[m\u001b[Khair vacuoles are fragmented.\t19392685\n",
      "\u001b[32m\u001b[K95\u001b[m\u001b[K\u001b[36m\u001b[K:\u001b[m\u001b[KAT1G03060\tspi-4.2\tTrichome cells have shorter branches, reduced stalk length and width.  Epidermal pavement cells are less complex, with less lobing. \u001b[01;31m\u001b[K Root \u001b[m\u001b[Khairs are shorter and\u001b[01;31m\u001b[K root \u001b[m\u001b[Khair vacuoles are fragmented.\t19392685\n",
      "\u001b[32m\u001b[K144\u001b[m\u001b[K\u001b[36m\u001b[K:\u001b[m\u001b[KAT1G04020\tbard1-3\tMutant meristems develop abnormally.The meristem is enlarged shortly after germination and appears disorganized. Primordia are irregular and lateral organs produced include tubular and finger-like structures. Also affects the development of roots. Primary\u001b[01;31m\u001b[K root \u001b[m\u001b[Kgrowth is inhibited. The\u001b[01;31m\u001b[K root \u001b[m\u001b[Kapical meristems are enlarged and lack distinct columella cells or starch granules.\t18591352\n",
      "\u001b[32m\u001b[K145\u001b[m\u001b[K\u001b[36m\u001b[K:\u001b[m\u001b[KAT1G04030\tbard1-3\tMutant meristems develop abnormally.The meristem is enlarged shortly after germination and appears disorganized. Primordia are irregular and lateral organs produced include tubular and finger-like structures. Also affects the development of roots. Primary\u001b[01;31m\u001b[K root \u001b[m\u001b[Kgrowth is inhibited. The\u001b[01;31m\u001b[K root \u001b[m\u001b[Kapical meristems are enlarged and lack distinct columella cells or starch granules.\t18591352\n",
      "\u001b[32m\u001b[K150\u001b[m\u001b[K\u001b[36m\u001b[K:\u001b[m\u001b[KAT1G04160\tCS859930\tThere are no obvious defects in the aerial tissues, roots, or\u001b[01;31m\u001b[K root \u001b[m\u001b[Khairs of xi-b mutant plants grown under normal conditions. There are also no obvious defects in organelle trafficking. Double mutant analysis reveals a role for xi-b in\u001b[01;31m\u001b[K root \u001b[m\u001b[Khair elongation (see xi-2/xi-b).\t18178669\n",
      "\u001b[32m\u001b[K151\u001b[m\u001b[K\u001b[36m\u001b[K:\u001b[m\u001b[KAT1G04160\tSALK_113062C\tThere are no obvious defects in the aerial tissues, roots, or\u001b[01;31m\u001b[K root \u001b[m\u001b[Khairs of xi-b mutant plants grown under normal conditions. There are also no obvious defects in organelle trafficking. Double mutant analysis reveals a role for xi-b in\u001b[01;31m\u001b[K root \u001b[m\u001b[Khair elongation (see xi-2/xi-b)\t18178669\n",
      "\u001b[32m\u001b[K152\u001b[m\u001b[K\u001b[36m\u001b[K:\u001b[m\u001b[KAT1G04160\txi-2 / xi-b\tThe overall growth of the xi-2 / xi-b double mutant is normal. In the leaf epidermis, Golgi stacks and peroxisomes move more slowly in these mutant cells than in wild-type cells. The rate of mitochondrial movement is also slightly reduced.\u001b[01;31m\u001b[K Root \u001b[m\u001b[Khair length is reduced to ~15% of the wild type\u001b[01;31m\u001b[K root \u001b[m\u001b[Khair length in these double mutants, but their\u001b[01;31m\u001b[K root \u001b[m\u001b[Khair density is very similar to the wild type density.\t19060218\n",
      "\u001b[32m\u001b[K154\u001b[m\u001b[K\u001b[36m\u001b[K:\u001b[m\u001b[KAT1G04220\tdaisy-2\tsignificantly reduced\u001b[01;31m\u001b[K root \u001b[m\u001b[Kgrowth\t18786002\n",
      "\u001b[32m\u001b[K156\u001b[m\u001b[K\u001b[36m\u001b[K:\u001b[m\u001b[KAT1G04250\tCS57505\tThe mutant is less affected by brassinolide than wildtype with regard to inhibition of\u001b[01;31m\u001b[K root \u001b[m\u001b[Kelongation.\t16367964\n",
      "\u001b[32m\u001b[K180\u001b[m\u001b[K\u001b[36m\u001b[K:\u001b[m\u001b[KAT1G05180\tAXL/axl-1 axr1-12\tHomozygous axr1-12 plants that are heterozygous for axl-1 display severe growth defects. These seedlings developed short, slow growing\u001b[01;31m\u001b[K roots \u001b[m\u001b[Kcompared with wild-type roots, and were arrested at the late seedling stage.\t17655650\n",
      "\u001b[32m\u001b[K185\u001b[m\u001b[K\u001b[36m\u001b[K:\u001b[m\u001b[KAT1G05180\tAXL/axl-1 axr1-12\tThe columella of AXL/axl-1 axr1-12/axr1-12\u001b[01;31m\u001b[K root \u001b[m\u001b[Ktips is highly disorganized during early seedling\u001b[01;31m\u001b[K root \u001b[m\u001b[Kgrowth, and is completely disrupted at the time when\u001b[01;31m\u001b[K root \u001b[m\u001b[Kgrowth ceases.\t17655650\n",
      "\u001b[32m\u001b[K190\u001b[m\u001b[K\u001b[36m\u001b[K:\u001b[m\u001b[KAT1G05180\tCS8038\tauxin resistant; irregular rosette leaves, slightly curled around leaf axis;\u001b[01;31m\u001b[K roots \u001b[m\u001b[Kvery auxin resistant; defective\u001b[01;31m\u001b[K root \u001b[m\u001b[Kgravitropism; reduced number of lateral roots; plant appearance similar to axr1-12, but more pronounced; dwarf, bushy plants; reduced plant height; reduced fertility.\t7704045\n",
      "\u001b[32m\u001b[K211\u001b[m\u001b[K\u001b[36m\u001b[K:\u001b[m\u001b[KAT1G05850\tpom1-1\tCallus-induced\u001b[01;31m\u001b[K roots \u001b[m\u001b[Kfrom the mutant displayed the mutant phenotype when they grew under restrictive conditions. All the mutants responded to a gravitropic stimulus in a manner similar to wild type although the change of the direction of growth was slower than wild type.\t7743935\n",
      "\u001b[32m\u001b[K224\u001b[m\u001b[K\u001b[36m\u001b[K:\u001b[m\u001b[KAT1G05850\tpom1-7\tWhen grown on media containing 0.5% sucrose, the mutant had reduced\u001b[01;31m\u001b[K root \u001b[m\u001b[Klength but no apparent radial cell expansion.\t7743935\n",
      "\u001b[32m\u001b[K226\u001b[m\u001b[K\u001b[36m\u001b[K:\u001b[m\u001b[KAT1G05850\tpom1-8\tWhen grown on media containing 0.5% sucrose, the mutant had reduced\u001b[01;31m\u001b[K root \u001b[m\u001b[Klength but no apparent radial cell expansion.\t7743935\n",
      "\u001b[32m\u001b[K234\u001b[m\u001b[K\u001b[36m\u001b[K:\u001b[m\u001b[KAT1G06290\tacx3-2\tPlants display decreased sensitivity to the inhibitory effect of indole-3-butyric acid (IBA) on\u001b[01;31m\u001b[K root \u001b[m\u001b[Kelongation, while remaining sensitive to inhibitory concentrations of indole-3-acetic acid.  They maintain their ability to initiate lateral\u001b[01;31m\u001b[K roots \u001b[m\u001b[Kin response to IBA.\t15743450\n",
      "\u001b[32m\u001b[K235\u001b[m\u001b[K\u001b[36m\u001b[K:\u001b[m\u001b[KAT1G06290\tacx3-4\tPlants display decreased sensitivity to the inhibitory effect of indole-3-butyric acid (IBA) on\u001b[01;31m\u001b[K root \u001b[m\u001b[Kelongation, while remaining sensitive to inhibitory concentrations of indole-3-acetic acid.  They maintain their ability to initiate lateral\u001b[01;31m\u001b[K roots \u001b[m\u001b[Kin response to IBA.\t15743450\n"
     ]
    },
    {
     "name": "stdout",
     "output_type": "stream",
     "text": [
      "\u001b[32m\u001b[K251\u001b[m\u001b[K\u001b[36m\u001b[K:\u001b[m\u001b[KAT1G08030\tSALK_009847\tSeedlings of tpst-1 had stunted\u001b[01;31m\u001b[K roots \u001b[m\u001b[Kand smaller cotyledons compared with the WT.  tpst-1 has an abnormally shaped\u001b[01;31m\u001b[K root \u001b[m\u001b[Kapical meristem due to disorganized cell division and expansion. At 15 days after germination, the leaves of the tpst-1 plants are small and pale green, the number of higher order veins is reduced, and the secondary veins often do not close.  At the flowering stage, tpst-1 has smaller rosettes, tiny leaves showing early senescence, shorter inflorescence, and a reduced number of flowers and siliques. The fertility and seed set of tpst-1 are normal.\t19666544\n",
      "\u001b[32m\u001b[K253\u001b[m\u001b[K\u001b[36m\u001b[K:\u001b[m\u001b[KAT1G08260\ttilted1-4\tTwenty-five percent of embryos show abnormal cell divisions during embryogenesis-large cells- decreased rate of cell division. Division of the hypohyseal cell abnormal leading to abnormal placement of the\u001b[01;31m\u001b[K root \u001b[m\u001b[Kpole. Homozygotes show delayed flowering, abnormal floraly phyllotaxy and abnormal ovules.\t16278345\n",
      "\u001b[32m\u001b[K255\u001b[m\u001b[K\u001b[36m\u001b[K:\u001b[m\u001b[KAT1G08370\tdcp1-2\tThe homozygous progeny is seedling lethal, showed arrested postembryonic development including cotyledon expansion, development of vascular networks,\u001b[01;31m\u001b[K root \u001b[m\u001b[Kelongation, and shoot development.\t17485080\n",
      "\u001b[32m\u001b[K256\u001b[m\u001b[K\u001b[36m\u001b[K:\u001b[m\u001b[KAT1G08430\tAtalm1-KO\tOn Al3+ medium, the mutant has significantly shorter\u001b[01;31m\u001b[K roots \u001b[m\u001b[Kthan the Col wild type. In the absence of aluminum stress, the\u001b[01;31m\u001b[K roots \u001b[m\u001b[Kof mutant and wild type grew similarly.\t16740662\n",
      "\u001b[32m\u001b[K257\u001b[m\u001b[K\u001b[36m\u001b[K:\u001b[m\u001b[KAT1G08430\tAtalm1-KO\tThe mutant exhibits very low levels of\u001b[01;31m\u001b[K root \u001b[m\u001b[K growth and malate release in the presence of  Al (0.2 nmol plant-1 24 h-1).\n",
      "\u001b[32m\u001b[K289\u001b[m\u001b[K\u001b[36m\u001b[K:\u001b[m\u001b[KAT1G09100\trpt5b\tInsensitive to high-glucose repression of cotyledon expansion, chlorophyll accumulation, true-leaf development and\u001b[01;31m\u001b[K root \u001b[m\u001b[Kelongation. The response is specific to glucose but not to osmotic changes.\t17081979\n",
      "\u001b[32m\u001b[K294\u001b[m\u001b[K\u001b[36m\u001b[K:\u001b[m\u001b[KAT1G09110\trpt5b\tInsensitive to high-glucose repression of cotyledon expansion, chlorophyll accumulation, true-leaf development and\u001b[01;31m\u001b[K root \u001b[m\u001b[Kelongation. The response is specific to glucose but not to osmotic changes.\t17081979\n",
      "\u001b[32m\u001b[K340\u001b[m\u001b[K\u001b[36m\u001b[K:\u001b[m\u001b[KAT1G10130\teca3-1\tShoot and\u001b[01;31m\u001b[K root \u001b[m\u001b[Kgrowth is strongly retarded when plants are grown in the absence of Mn.  Also shows delayed growth when grown in the absence of Ca.\t18024560\n",
      "\u001b[32m\u001b[K358\u001b[m\u001b[K\u001b[36m\u001b[K:\u001b[m\u001b[KAT1G10570\tots1-1 ots2-1\tThe ots1-1 ots2-1 double mutant plants flower earlier than wild type plants under long days and short days. They do not differ notably from wild type plants with respect to their overall growth rate, inflorescence structure, or seedling primary\u001b[01;31m\u001b[K root \u001b[m\u001b[Kelongation rate. But, they are hypersensitive to salt based on\u001b[01;31m\u001b[K root \u001b[m\u001b[Kelongation assays. They also have a higher level of SUMOylated proteins than wild type seedlings exposed to salt stress.\t18849491\n",
      "\u001b[32m\u001b[K383\u001b[m\u001b[K\u001b[36m\u001b[K:\u001b[m\u001b[KAT1G11130\tscm-1\tPosition of root-hair cells is scrambled.  Only 66% of epidermal cells (compared with 92% in wild type) overlying two cortical cells develop as\u001b[01;31m\u001b[K root \u001b[m\u001b[Khairs, and 21% of epidermal cells overlying one cortical cell (compared with 1% in wild type) develop as\u001b[01;31m\u001b[K root \u001b[m\u001b[Khairs.\t15618487\n",
      "\u001b[32m\u001b[K394\u001b[m\u001b[K\u001b[36m\u001b[K:\u001b[m\u001b[KAT1G12610\tddf1-LF1\tLonger\u001b[01;31m\u001b[K roots \u001b[m\u001b[Kwhen plants are grown under salt stress (50-100 nM NaCl).\t18643985\n",
      "\u001b[32m\u001b[K410\u001b[m\u001b[K\u001b[36m\u001b[K:\u001b[m\u001b[KAT1G13290\tdot5-1\tdot5-1 mutants have a misaligned venation defect in their leaves and cotyledons. Their phenotypes may vary somewhat, but dot5-1 mutants often have shorter\u001b[01;31m\u001b[K roots \u001b[m\u001b[Kand delayed leaf initiation compared to wild-type seedlings. They also have an abnormal petiole length and phyllotaxy. Apical dominance is reduced in dot5-1 mutants, and they appear to be hypersensitive to an application of the polar auxin transport inhibitor NPA.\t18643975\n",
      "\u001b[32m\u001b[K430\u001b[m\u001b[K\u001b[36m\u001b[K:\u001b[m\u001b[KAT1G14290\tsbh1-1 sbh2-1\tDwarf plants with reduced vigor, dies before expansion of the true leaves, necrotic lesions on cotyledons. When grew on agar plates, the double mutants displayed extended viability and developed into compact and epinastic rosette with small curled leaves and short petioles, however no bolting. Short\u001b[01;31m\u001b[K roots \u001b[m\u001b[Kon agar plate.\t18612100\n",
      "\u001b[32m\u001b[K435\u001b[m\u001b[K\u001b[36m\u001b[K:\u001b[m\u001b[KAT1G14660\tSALK_070497\tLi+ hypersensitive. Under low Li+ concentrations, germination of mutant seeds and elongation of\u001b[01;31m\u001b[K roots \u001b[m\u001b[Kwere significantly reduced.\t17270011\n",
      "\u001b[32m\u001b[K436\u001b[m\u001b[K\u001b[36m\u001b[K:\u001b[m\u001b[KAT1G14660\tSALK_086336\tLi+ hypersensitive. Under low Li+ concentrations, germination of mutant seeds and elongation of\u001b[01;31m\u001b[K roots \u001b[m\u001b[Kwere significantly reduced.\t17270011\n",
      "\u001b[32m\u001b[K467\u001b[m\u001b[K\u001b[36m\u001b[K:\u001b[m\u001b[KAT1G15550\tga3ox1-3\u001b[01;31m\u001b[K\tRoots \u001b[m\u001b[Kshorter than that of wildtype.\t16460513\n",
      "\u001b[32m\u001b[K477\u001b[m\u001b[K\u001b[36m\u001b[K:\u001b[m\u001b[KAT1G15550\tga3ox1-3 ga3ox2-1\tSevere defect in\u001b[01;31m\u001b[K root \u001b[m\u001b[Klength.\t16460513\n",
      "\u001b[32m\u001b[K480\u001b[m\u001b[K\u001b[36m\u001b[K:\u001b[m\u001b[KAT1G15690\tavp1-1\tShoot defects include: smaller leaves, decreased cell number in leaves, mesophyll and vascular patterning disorganized, cup-shaped cotyledons.Root defects: small cells at apex, columella cell layers reduced to 2, deformed\u001b[01;31m\u001b[K root \u001b[m\u001b[Kcap.\t16210544\n",
      "\u001b[32m\u001b[K496\u001b[m\u001b[K\u001b[36m\u001b[K:\u001b[m\u001b[KAT1G16150\twakl4-1\tSeedlings consistently show retarded\u001b[01;31m\u001b[K root \u001b[m\u001b[Kgrowth when grown in full- or one-half-strength MS nutrients and are hypersensitive, as assayed by a\u001b[01;31m\u001b[K root \u001b[m\u001b[Kelongation assay, to Na+, K+, Zn2+ and Cu2+.\t16286448\n",
      "\u001b[32m\u001b[K521\u001b[m\u001b[K\u001b[36m\u001b[K:\u001b[m\u001b[KAT1G17170\tgst\tAs for the\u001b[01;31m\u001b[K root \u001b[m\u001b[Kgrowth assay, the\u001b[01;31m\u001b[K root \u001b[m\u001b[Kelongation of both the mutant and the wild-type was inhibited at lower concentrations of TNT than 2,6-DNT. In addition, there was no statistically significant difference of the\u001b[01;31m\u001b[K root \u001b[m\u001b[Kelongation between the gst mutant and the wild-type exposed to different concentrations of 2,6-DNT and TNT from t-test.\n",
      "\u001b[32m\u001b[K529\u001b[m\u001b[K\u001b[36m\u001b[K:\u001b[m\u001b[KAT1G17440\teer4\u001b[01;31m\u001b[K\tRoots \u001b[m\u001b[Kare extremely curled.   Dark-grown seedlings are hypersensitive to ethylene. Extreme hypocotyl shortening is observed when grown on 100ul /L ethylene.\n",
      "\u001b[32m\u001b[K535\u001b[m\u001b[K\u001b[36m\u001b[K:\u001b[m\u001b[KAT1G17580\tSALK_019031C\tThere are no obvious defects in the aerial tissues, roots, or\u001b[01;31m\u001b[K root \u001b[m\u001b[Khairs of xi-1 mutant plants grown under normal conditions. There are also no obvious defects in organelle trafficking, except for a slight effect on peroxisome movement. Double mutant analysis reveals a greater role for XI-1 in organelle movement and plant development (see xik-2/xi-1).\t18178669\n",
      "\u001b[32m\u001b[K536\u001b[m\u001b[K\u001b[36m\u001b[K:\u001b[m\u001b[KAT1G17580\txi-k / xi-1\tThe xi-k / xi-1 double mutant plants are shorter and have smaller rosettes than wild type plants. Their reduced leaf size results from decreased cell size and decreased cell number. These double mutants produce fewer seeds per silique than wild type plants. In the leaf epidermis, Golgi stacks, peroxisomes, and mitochondria move more slowly in these mutant cells than in wild-type cells.\u001b[01;31m\u001b[K Root \u001b[m\u001b[Khair length is reduced to ~35% of the wild type\u001b[01;31m\u001b[K root \u001b[m\u001b[Khair length in these double mutants, but their\u001b[01;31m\u001b[K root \u001b[m\u001b[Khair density is very similar to the wild type density.\t19060218\n",
      "\u001b[32m\u001b[K553\u001b[m\u001b[K\u001b[36m\u001b[K:\u001b[m\u001b[KAT1G18800\tnrp1-1 nrp2-1\tDouble mutant plants showed a short-root phenotype:\u001b[01;31m\u001b[K roots \u001b[m\u001b[Kgrew like the wild-type\u001b[01;31m\u001b[K roots \u001b[m\u001b[Kuntil 6 d after germination (DAG). However, after 7 DAG, the elongation of the double mutant\u001b[01;31m\u001b[K roots \u001b[m\u001b[Kwas dramatically reduced compared with the wild-type roots. The aerial organs (leaves, rosettes, inflorescences, flowers, fruits, and embryos) developed normally in the double mutant plants.\n",
      "\u001b[32m\u001b[K559\u001b[m\u001b[K\u001b[36m\u001b[K:\u001b[m\u001b[KAT1G19220\tCS24617\tThe primary\u001b[01;31m\u001b[K roots \u001b[m\u001b[Kof the mutant produce as many lateral\u001b[01;31m\u001b[K roots \u001b[m\u001b[Kas the wild type.\t15659631\n",
      "\u001b[32m\u001b[K563\u001b[m\u001b[K\u001b[36m\u001b[K:\u001b[m\u001b[KAT1G19220\tCS24617\tno obvious auxin-related growth phenotype, but\u001b[01;31m\u001b[K roots \u001b[m\u001b[Kshow mild auxin resistance\t15659631\n"
     ]
    },
    {
     "name": "stdout",
     "output_type": "stream",
     "text": [
      "\u001b[32m\u001b[K564\u001b[m\u001b[K\u001b[36m\u001b[K:\u001b[m\u001b[KAT1G19220\tCS24618\tno obvious auxin-related growth phenotype, but\u001b[01;31m\u001b[K roots \u001b[m\u001b[Kshow mild auxin resistance\t15659631\n",
      "Binary file Locus_Germplasm_Phenotype_20130122.txt matches\n"
     ]
    }
   ],
   "source": [
    "#all of the lines that have a phenotype including the word \"root\"\n",
    "\n",
    "grep -E -in \"\\sroot\\w+?\\s\" Locus_Germplasm_Phenotype_20130122.txt"
   ]
  },
  {
   "cell_type": "markdown",
   "metadata": {},
   "source": [
    "# PROBLEM 7"
   ]
  },
  {
   "cell_type": "code",
   "execution_count": 58,
   "metadata": {},
   "outputs": [
    {
     "name": "stdout",
     "output_type": "stream",
     "text": [
      "AT1G01550\n",
      "AT1G01550\n",
      "AT1G01550\n",
      "AT1G02970\n",
      "AT1G03000\n",
      "AT1G03060\n",
      "AT1G03060\n",
      "AT1G03060\n",
      "AT1G03060\n",
      "AT1G04020\n",
      "AT1G04030\n",
      "AT1G04160\n",
      "AT1G04160\n",
      "AT1G04160\n",
      "AT1G04220\n",
      "AT1G04250\n",
      "AT1G05180\n",
      "AT1G05180\n",
      "AT1G05180\n",
      "AT1G05850\n",
      "AT1G05850\n",
      "AT1G05850\n",
      "AT1G06290\n",
      "AT1G06290\n",
      "AT1G08030\n",
      "AT1G08260\n",
      "AT1G08370\n",
      "AT1G08430\n",
      "AT1G08430\n",
      "AT1G09100\n",
      "AT1G09110\n",
      "AT1G10130\n",
      "AT1G10570\n",
      "AT1G11130\n",
      "AT1G12610\n",
      "AT1G13290\n",
      "AT1G14290\n",
      "AT1G14660\n",
      "AT1G14660\n",
      "AT1G15550\n",
      "AT1G15550\n",
      "AT1G15690\n",
      "AT1G16150\n",
      "AT1G17170\n",
      "AT1G17440\n",
      "AT1G17580\n",
      "AT1G17580\n",
      "AT1G18800\n",
      "AT1G19220\n",
      "AT1G19220\n",
      "AT1G19220\n"
     ]
    }
   ],
   "source": [
    "#The AGI Locus Code for every line that has a phenotype including the word \"root\" \n",
    "grep -E -in \"\\sroot\\w+?\\s\" Locus_Germplasm_Phenotype_20130122.txt | grep -E -io \"at[1-5]{1}g[0-9]{5}\" > Root-associated-Loci.txt \n",
    "\n",
    "cat Root-associated-Loci.txt"
   ]
  },
  {
   "cell_type": "markdown",
   "metadata": {},
   "source": [
    "# PROBLEM 8"
   ]
  },
  {
   "cell_type": "code",
   "execution_count": 61,
   "metadata": {},
   "outputs": [
    {
     "name": "stdout",
     "output_type": "stream",
     "text": [
      "17217459\n",
      "15458645\n",
      "17217459\n",
      "17209125\n",
      "14745029\n",
      "19392685\n",
      "19392685\n",
      "19392685\n",
      "19392685\n",
      "18591352\n",
      "18591352\n",
      "18178669\n",
      "18178669\n",
      "19060218\n",
      "18786002\n",
      "16367964\n",
      "17655650\n",
      "17655650\n",
      "7704045\n",
      "7743935\n",
      "7743935\n",
      "7743935\n",
      "15743450\n",
      "15743450\n",
      "19666544\n",
      "16278345\n",
      "17485080\n",
      "16740662\n",
      "17081979\n",
      "17081979\n",
      "18024560\n",
      "18849491\n",
      "15618487\n",
      "18643985\n",
      "18643975\n",
      "18612100\n",
      "17270011\n",
      "17270011\n",
      "16460513\n",
      "16460513\n",
      "16210544\n",
      "16286448\n",
      "18178669\n",
      "19060218\n",
      "15659631\n",
      "15659631\n",
      "15659631\n"
     ]
    }
   ],
   "source": [
    "#The PubMed ID for every line that has a phenotype including the word \"root\" to a file called:\"Root-associated-Publications.txt\"\n",
    "grep -E -in \"\\sroot\\w+?\\s\" Locus_Germplasm_Phenotype_20130122.txt | grep -E -o \"[0-9]+$\" > Root-associated-Publications.txt\n",
    "cat Root-associated-Publications.txt\n"
   ]
  },
  {
   "cell_type": "markdown",
   "metadata": {},
   "source": [
    "# PROBLEM 9"
   ]
  },
  {
   "cell_type": "code",
   "execution_count": 79,
   "metadata": {},
   "outputs": [
    {
     "ename": "",
     "evalue": "1",
     "output_type": "error",
     "traceback": []
    }
   ],
   "source": [
    "#genes associated with roots should be found on all chromosomes?\n",
    "grep -i \"AT2\" Root-associated-Loci.txt \n",
    "grep -i \"AT3\" Root-associated-Loci.txt \n",
    "grep -i \"AT4\" Root-associated-Loci.txt \n",
    "grep -i \"AT5\" Root-associated-Loci.txt \n",
    "#If any of the lines doesn't have a result, the hypothesis is incorrect."
   ]
  },
  {
   "cell_type": "markdown",
   "metadata": {},
   "source": [
    "THE HYPOTHESIZE IS NOT TRUE (IT IS FALSE)!! "
   ]
  },
  {
   "cell_type": "markdown",
   "metadata": {},
   "source": [
    "# PROBLEM 10"
   ]
  },
  {
   "cell_type": "markdown",
   "metadata": {},
   "source": [
    "The Problem 9 has told me that the genes associated with roots should be found on the Chromosome 1. \n",
    "With this control I have learnt that if I am looking for genes associated with root I can discard all the genes in other chromosomes. \n",
    "Then it is important to know where is the useful information in order to work with the less amount of information as possible!!"
   ]
  }
 ],
 "metadata": {
  "kernelspec": {
   "display_name": "Bash",
   "language": "bash",
   "name": "bash"
  },
  "language_info": {
   "codemirror_mode": "shell",
   "file_extension": ".sh",
   "mimetype": "text/x-sh",
   "name": "bash"
  }
 },
 "nbformat": 4,
 "nbformat_minor": 2
}
